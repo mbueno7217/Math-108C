{
 "cells": [
  {
   "cell_type": "markdown",
   "metadata": {},
   "source": [
    "# **Welcome! In this notebook, we'll solve Homework 2.11 together in Python.**\n",
    "\n",
    "First, we'll import the most common Python data science libraries."
   ]
  },
  {
   "cell_type": "code",
   "execution_count": 1,
   "metadata": {},
   "outputs": [],
   "source": [
    "import numpy as np\n",
    "import matplotlib.pyplot as plt\n",
    "import pandas as pd"
   ]
  },
  {
   "cell_type": "markdown",
   "metadata": {},
   "source": [
    "Now, let's import our data with pandas and take a first look!"
   ]
  },
  {
   "cell_type": "code",
   "execution_count": 2,
   "metadata": {},
   "outputs": [],
   "source": [
    "data = pd.read_csv('income.csv')"
   ]
  },
  {
   "cell_type": "code",
   "execution_count": 3,
   "metadata": {},
   "outputs": [
    {
     "data": {
      "text/html": [
       "<div>\n",
       "<style scoped>\n",
       "    .dataframe tbody tr th:only-of-type {\n",
       "        vertical-align: middle;\n",
       "    }\n",
       "\n",
       "    .dataframe tbody tr th {\n",
       "        vertical-align: top;\n",
       "    }\n",
       "\n",
       "    .dataframe thead th {\n",
       "        text-align: right;\n",
       "    }\n",
       "</style>\n",
       "<table border=\"1\" class=\"dataframe\">\n",
       "  <thead>\n",
       "    <tr style=\"text-align: right;\">\n",
       "      <th></th>\n",
       "      <th>Unnamed: 0</th>\n",
       "      <th>income</th>\n",
       "      <th>happiness</th>\n",
       "    </tr>\n",
       "  </thead>\n",
       "  <tbody>\n",
       "    <tr>\n",
       "      <td>0</td>\n",
       "      <td>1</td>\n",
       "      <td>3.862647</td>\n",
       "      <td>2.314489</td>\n",
       "    </tr>\n",
       "    <tr>\n",
       "      <td>1</td>\n",
       "      <td>2</td>\n",
       "      <td>4.979381</td>\n",
       "      <td>3.433490</td>\n",
       "    </tr>\n",
       "    <tr>\n",
       "      <td>2</td>\n",
       "      <td>3</td>\n",
       "      <td>4.923957</td>\n",
       "      <td>4.599373</td>\n",
       "    </tr>\n",
       "    <tr>\n",
       "      <td>3</td>\n",
       "      <td>4</td>\n",
       "      <td>3.214372</td>\n",
       "      <td>2.791114</td>\n",
       "    </tr>\n",
       "    <tr>\n",
       "      <td>4</td>\n",
       "      <td>5</td>\n",
       "      <td>7.196409</td>\n",
       "      <td>5.596398</td>\n",
       "    </tr>\n",
       "    <tr>\n",
       "      <td>...</td>\n",
       "      <td>...</td>\n",
       "      <td>...</td>\n",
       "      <td>...</td>\n",
       "    </tr>\n",
       "    <tr>\n",
       "      <td>493</td>\n",
       "      <td>494</td>\n",
       "      <td>5.249209</td>\n",
       "      <td>4.568705</td>\n",
       "    </tr>\n",
       "    <tr>\n",
       "      <td>494</td>\n",
       "      <td>495</td>\n",
       "      <td>3.471799</td>\n",
       "      <td>2.535002</td>\n",
       "    </tr>\n",
       "    <tr>\n",
       "      <td>495</td>\n",
       "      <td>496</td>\n",
       "      <td>6.087610</td>\n",
       "      <td>4.397451</td>\n",
       "    </tr>\n",
       "    <tr>\n",
       "      <td>496</td>\n",
       "      <td>497</td>\n",
       "      <td>3.440847</td>\n",
       "      <td>2.070664</td>\n",
       "    </tr>\n",
       "    <tr>\n",
       "      <td>497</td>\n",
       "      <td>498</td>\n",
       "      <td>4.530545</td>\n",
       "      <td>3.710193</td>\n",
       "    </tr>\n",
       "  </tbody>\n",
       "</table>\n",
       "<p>498 rows × 3 columns</p>\n",
       "</div>"
      ],
      "text/plain": [
       "     Unnamed: 0    income  happiness\n",
       "0             1  3.862647   2.314489\n",
       "1             2  4.979381   3.433490\n",
       "2             3  4.923957   4.599373\n",
       "3             4  3.214372   2.791114\n",
       "4             5  7.196409   5.596398\n",
       "..          ...       ...        ...\n",
       "493         494  5.249209   4.568705\n",
       "494         495  3.471799   2.535002\n",
       "495         496  6.087610   4.397451\n",
       "496         497  3.440847   2.070664\n",
       "497         498  4.530545   3.710193\n",
       "\n",
       "[498 rows x 3 columns]"
      ]
     },
     "execution_count": 3,
     "metadata": {},
     "output_type": "execute_result"
    }
   ],
   "source": [
    "data"
   ]
  },
  {
   "cell_type": "markdown",
   "metadata": {},
   "source": [
    "<div class=\"alert alert-block alert-info\">\n",
    "<b>Note:</b> For convenience in longer applications, we may want to use the <i>drop</i> command to get rid of the 'Unnamed: 0' column. Here, we simply ignore this column, as Python will index our data for us.\n",
    "</div>"
   ]
  },
  {
   "cell_type": "markdown",
   "metadata": {},
   "source": [
    "We next plot our data as a basic scatterplot, to gain initial understanding."
   ]
  },
  {
   "cell_type": "code",
   "execution_count": 4,
   "metadata": {},
   "outputs": [
    {
     "data": {
      "text/plain": [
       "<matplotlib.axes._subplots.AxesSubplot at 0x18efebed6c8>"
      ]
     },
     "execution_count": 4,
     "metadata": {},
     "output_type": "execute_result"
    },
    {
     "data": {
      "image/png": "[encoded data removed]",
      "text/plain": [
       "<Figure size 432x288 with 1 Axes>"
      ]
     },
     "metadata": {
      "needs_background": "light"
     },
     "output_type": "display_data"
    }
   ],
   "source": [
    "data.plot(kind=\"scatter\", x=\"income\", y=\"happiness\")"
   ]
  },
  {
   "cell_type": "markdown",
   "metadata": {},
   "source": [
    "By inspection, it appears there is a positive linear relationship between income and happiness.\n",
    "\n",
    "Now, let's try to find a line of best fit. The numpy library easily computes this with the *polyfit* command. We simply pass our variables, and a number specifying the dimension of the curve of best fit. Here, we use $1$ to construct a line."
   ]
  },
  {
   "cell_type": "code",
   "execution_count": 5,
   "metadata": {},
   "outputs": [
    {
     "data": {
      "image/png": "[encoded data removed]",
      "text/plain": [
       "<Figure size 432x288 with 1 Axes>"
      ]
     },
     "metadata": {
      "needs_background": "light"
     },
     "output_type": "display_data"
    },
    {
     "data": {
      "text/plain": [
       "'y = 0.714 * x + 0.204'"
      ]
     },
     "execution_count": 5,
     "metadata": {},
     "output_type": "execute_result"
    }
   ],
   "source": [
    "#We first get a slope and y-intercept from the polyfit method.\n",
    "m, b = np.polyfit(data.income, data.happiness, 1)\n",
    "\n",
    "#We then plot our data and our line on the same graph.\n",
    "plt.plot(data.income, data.happiness, 'o')\n",
    "plt.plot(data.income, m*data.income+b, linewidth=3, label='Line of Best Fit')\n",
    "plt.legend()\n",
    "plt.show()\n",
    "\n",
    "#We finally output our equation for our line of best fit, to accomodate explicit computation.\n",
    "'y = {0:.3f} * x + {1:.3f}'.format(m,b)"
   ]
  },
  {
   "cell_type": "markdown",
   "metadata": {},
   "source": [
    "Now we wish to use this model to estimate the happiness of a person whose income is $\\$60,000$. Note that income is divided by $10,000$, so we will use an income value of $6$ after preprocessing our data."
   ]
  },
  {
   "cell_type": "code",
   "execution_count": 6,
   "metadata": {},
   "outputs": [
    {
     "data": {
      "text/plain": [
       "'4.487 = 0.714 * 6 + 0.204'"
      ]
     },
     "execution_count": 6,
     "metadata": {},
     "output_type": "execute_result"
    }
   ],
   "source": [
    "#We simply manually compute this desired value.\n",
    "'{0:.3f} = {1:.3f} * 6 + {2:.3f}'.format(m*6+b,m,b)"
   ]
  },
  {
   "cell_type": "markdown",
   "metadata": {},
   "source": [
    "Our line then predicts a happiness of about $4.487$ for someone whose income is $\\$60,000$."
   ]
  },
  {
   "cell_type": "markdown",
   "metadata": {},
   "source": [
    "As our final note, it is likely not safe to use this model to predict the happiness of a person with income $\\$80,000$, as data collection only took place for people with incomes between $\\$15,000$ and $\\$75,000$."
   ]
  },
  {
   "cell_type": "markdown",
   "metadata": {},
   "source": [
    "***"
   ]
  },
  {
   "cell_type": "markdown",
   "metadata": {},
   "source": [
    "We're done! Thanks for reading, and feel free to email me with any questions!\n",
    "\n",
    "-Charles"
   ]
  }
 ],
 "metadata": {
  "kernelspec": {
   "display_name": "Python 3",
   "language": "python",
   "name": "python3"
  },
  "language_info": {
   "codemirror_mode": {
    "name": "ipython",
    "version": 3
   },
   "file_extension": ".py",
   "mimetype": "text/x-python",
   "name": "python",
   "nbconvert_exporter": "python",
   "pygments_lexer": "ipython3",
   "version": "3.7.4"
  }
 },
 "nbformat": 4,
 "nbformat_minor": 2
}
